{
 "cells": [
  {
   "cell_type": "markdown",
   "metadata": {},
   "source": [
    "##### Exercício 1\n",
    "Escreva um programa que mostre a mensagem 'Hello World!' na tela."
   ]
  },
  {
   "cell_type": "code",
   "execution_count": 1,
   "metadata": {},
   "outputs": [
    {
     "name": "stdout",
     "output_type": "stream",
     "text": [
      "Hello World!\n"
     ]
    }
   ],
   "source": [
    "print('Hello World!')"
   ]
  },
  {
   "cell_type": "markdown",
   "metadata": {},
   "source": [
    "##### Exercício 2\n",
    "Faça um programa que solicite um número ao usuário e apresente a seguinte mensagem na tela:\n",
    "\n",
    "\"O número digitado foi [número]\"."
   ]
  },
  {
   "cell_type": "code",
   "execution_count": 7,
   "metadata": {},
   "outputs": [
    {
     "name": "stdout",
     "output_type": "stream",
     "text": [
      "O número digitado foi 5.\n",
      "O número digitado foi 2\n"
     ]
    }
   ],
   "source": [
    "print(f'O número digitado foi {input('Digite um número.')}.')\n",
    "\n",
    "#solução do curso\n",
    "num=input('Digite um número: ')\n",
    "print(f'O número digitado foi {num}')"
   ]
  },
  {
   "cell_type": "markdown",
   "metadata": {},
   "source": [
    "##### Exercício 3\n",
    "Escreva um programa que solicite o nome e o sobrenome do usuário. Ao final o programa deverá apresentar o nome completo do usuário na tela."
   ]
  },
  {
   "cell_type": "code",
   "execution_count": 10,
   "metadata": {},
   "outputs": [
    {
     "name": "stdout",
     "output_type": "stream",
     "text": [
      "Nome completo:    Vanderson Ribeiro Gonlaves   .\n",
      "Rafael Cesar Pereira\n"
     ]
    }
   ],
   "source": [
    "nome = input('Digite o seu nome:')\n",
    "sobrenome = input('Digite o seu sobrenome:')\n",
    "print(f'Nome completo: {nome} {sobrenome}.')\n",
    "\n",
    "#solução do curso\n",
    "nome=input('Digite seu primeiro nome: ').strip().title()\n",
    "sobrenome=input('Digite seu sobrenome: ').strip().title()\n",
    "print(f'{nome} {sobrenome}')"
   ]
  },
  {
   "cell_type": "markdown",
   "metadata": {},
   "source": [
    "##### Exercício 4\n",
    "Faça um programa que solicite três números inteiros do usuário e imprima a soma destes."
   ]
  },
  {
   "cell_type": "code",
   "execution_count": 11,
   "metadata": {},
   "outputs": [
    {
     "name": "stdout",
     "output_type": "stream",
     "text": [
      "Soma = 6\n"
     ]
    }
   ],
   "source": [
    "soma = 0\n",
    "for i in range(3):\n",
    "    numero = int(input('Digite um número inteiro:'))\n",
    "    soma += numero\n",
    "print(f'Soma = {soma}')\n",
    "\n",
    "#solução do curso\n",
    "num1=int(input('Número 1: '))\n",
    "num2=int(input('Número 2: '))\n",
    "num3=int(input('Número 3: '))\n",
    "print(f'{num1}+{num2}+{num3}={num1+num2+num3}')"
   ]
  },
  {
   "cell_type": "markdown",
   "metadata": {},
   "source": [
    "##### Exercício 5\n",
    "Escreva um programa que solicite duas notas do usuário e apresente a média na tela da seguinte forma:\n",
    "\n",
    "\"A média das notas `[nota1]` e `[nota2]` é `[média]`\""
   ]
  },
  {
   "cell_type": "code",
   "execution_count": 12,
   "metadata": {},
   "outputs": [
    {
     "name": "stdout",
     "output_type": "stream",
     "text": [
      "A média das notas 8.0 e 10.0 é 9.0.\n"
     ]
    }
   ],
   "source": [
    "nota1 = float(input('Digite a nota 1:'))\n",
    "nota2 = float(input('Digite a nota 2:'))\n",
    "print(f'A média das notas {nota1} e {nota2} é {(nota1 + nota2)/2}.')\n",
    "\n",
    "#solução do curso\n",
    "nota1=float(input('Nota 1: \\n'))\n",
    "nota2=float(input('Nota 2: \\n'))\n",
    "media=(nota1+nota2)/2\n",
    "print(f'A média das notas {nota1} e {nota2} é {media}')"
   ]
  },
  {
   "cell_type": "markdown",
   "metadata": {},
   "source": [
    "##### Exercício 6\n",
    "Faça um programa que calcule a raiz quadrada de um número. O usuário deve inserir um número e o programa deve mostrar na tela o resultado da raiz quadrada do número inserido."
   ]
  },
  {
   "cell_type": "code",
   "execution_count": 14,
   "metadata": {},
   "outputs": [
    {
     "name": "stdout",
     "output_type": "stream",
     "text": [
      "A raiz quadrada de 144.0 é 12.0.\n"
     ]
    }
   ],
   "source": [
    "numero = float(input('Digite um número:'))\n",
    "print(f'A raiz quadrada de {numero} é {numero**0.5}.')"
   ]
  },
  {
   "cell_type": "markdown",
   "metadata": {},
   "source": [
    "##### Exercício 7\n",
    "Faça um programa que peça 5 números de ponto flutuante do usuário e apresente no final a média dos números digitados."
   ]
  },
  {
   "cell_type": "code",
   "execution_count": 19,
   "metadata": {},
   "outputs": [
    {
     "name": "stdout",
     "output_type": "stream",
     "text": [
      "5.0\n"
     ]
    }
   ],
   "source": [
    "soma = 0\n",
    "for i in range(1,6):\n",
    "    mensagem = f'Digite o {i}º número.'\n",
    "    numero = float(input(mensagem))\n",
    "    soma += numero\n",
    "print(soma/5)\n",
    "    "
   ]
  },
  {
   "cell_type": "markdown",
   "metadata": {},
   "source": [
    "##### Exercício 8\n",
    "Escreva um programa que faça a conversão de um dado valor de metro para quilômetro."
   ]
  },
  {
   "cell_type": "code",
   "execution_count": 21,
   "metadata": {},
   "outputs": [
    {
     "name": "stdout",
     "output_type": "stream",
     "text": [
      "1.0\n"
     ]
    }
   ],
   "source": [
    "metros = float(input('Digite a distância em metros: '))\n",
    "quilometros = metros/1000\n",
    "print(quilometros)"
   ]
  },
  {
   "cell_type": "markdown",
   "metadata": {},
   "source": [
    "##### Exercício 9\n",
    "Escreva um programa que calcule a área de uma circunferência. O usuário deve digitar o valor do raio e ao final o programa deverá mostrar na tela a área da circunferência.\n",
    "\n",
    "Use a fórmula: área=pi*r² , em que pi é uma constante e r o raio da circunferência.\n",
    "\n",
    "Dica: você pode usar a biblioteca math para pegar a constante pi."
   ]
  },
  {
   "cell_type": "code",
   "execution_count": 27,
   "metadata": {},
   "outputs": [
    {
     "name": "stdout",
     "output_type": "stream",
     "text": [
      "A circunferência é 12.57.\n"
     ]
    }
   ],
   "source": [
    "from math import pi\n",
    "\n",
    "raio = float(input('Digite o valor do raio: '))\n",
    "circunferencia = pi*raio**2\n",
    "print(f'A circunferência é {circunferencia:.2f}.')"
   ]
  }
 ],
 "metadata": {
  "kernelspec": {
   "display_name": "python_pratica",
   "language": "python",
   "name": "python_pratica"
  },
  "language_info": {
   "codemirror_mode": {
    "name": "ipython",
    "version": 3
   },
   "file_extension": ".py",
   "mimetype": "text/x-python",
   "name": "python",
   "nbconvert_exporter": "python",
   "pygments_lexer": "ipython3",
   "version": "3.12.0"
  }
 },
 "nbformat": 4,
 "nbformat_minor": 2
}
